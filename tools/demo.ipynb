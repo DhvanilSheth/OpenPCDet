{
 "cells": [
  {
   "cell_type": "code",
   "execution_count": 1,
   "metadata": {},
   "outputs": [
    {
     "name": "stdout",
     "output_type": "stream",
     "text": [
      "Jupyter environment detected. Enabling Open3D WebVisualizer.\n",
      "[Open3D INFO] WebRTC GUI backend enabled.\n",
      "[Open3D INFO] WebRTCWindowSystem: HTTP handshake server disabled.\n"
     ]
    }
   ],
   "source": [
    "import argparse\n",
    "import glob\n",
    "from pathlib import Path\n",
    "import open3d\n",
    "from visual_utils import open3d_vis_utils as V\n",
    "OPEN3D_FLAG = True\n",
    "import numpy as np\n",
    "import torch\n",
    "from pcdet.config import cfg, cfg_from_yaml_file\n",
    "from pcdet.datasets import DatasetTemplate\n",
    "from pcdet.models import build_network, load_data_to_gpu\n",
    "from pcdet.utils import common_utils"
   ]
  },
  {
   "cell_type": "code",
   "execution_count": 5,
   "metadata": {},
   "outputs": [],
   "source": [
    "lidar_file = '/mnt/nas/users/dhvanil21040/nuscenes/samples/LIDAR_TOP/n008-2018-08-01-15-16-36-0400__LIDAR_TOP__1533151605548192.pcd.bin'\n",
    "points = np.fromfile(lidar_file, dtype=np.float32).reshape(-1, 5)\n",
    "points = points[:, :4]\n",
    "# np.save('/mnt/nas/users/shreyas21563/data.npy', points) #Shreyas Location storage for .npy files\n",
    "np.save('/mnt/nas/users/dhvanil21040/nuscenes_npy_lidar/n008-2018-08-01-15-16-36-0400__LIDAR_TOP__1533151605548192.npy', points) #Dhvanil Location storage for .npy files"
   ]
  },
  {
   "cell_type": "code",
   "execution_count": 6,
   "metadata": {},
   "outputs": [],
   "source": [
    "class DemoDataset(DatasetTemplate):\n",
    "    def __init__(self, dataset_cfg, class_names, training=False, root_path=None, logger=None, ext='.bin'):\n",
    "        \"\"\"\n",
    "        Args:\n",
    "            root_path:\n",
    "            dataset_cfg:\n",
    "            class_names:\n",
    "            training:\n",
    "            logger:\n",
    "        \"\"\"\n",
    "        super().__init__(\n",
    "            dataset_cfg=dataset_cfg, class_names=class_names, training=training, root_path=root_path, logger=logger\n",
    "        )\n",
    "        self.root_path = root_path\n",
    "        self.ext = ext\n",
    "        data_file_list = glob.glob(str(root_path / f'*{self.ext}')) if self.root_path.is_dir() else [self.root_path]\n",
    "        data_file_list.sort()\n",
    "        self.sample_file_list = data_file_list\n",
    "\n",
    "    def __len__(self):\n",
    "        return len(self.sample_file_list)\n",
    "\n",
    "    def __getitem__(self, index):\n",
    "        if self.ext == '.bin':\n",
    "            points = np.fromfile(self.sample_file_list[index], dtype=np.float32).reshape(-1, 4)\n",
    "        elif self.ext == '.npy':\n",
    "            points = np.load(self.sample_file_list[index])\n",
    "        else:\n",
    "            raise NotImplementedError\n",
    "\n",
    "        input_dict = {\n",
    "            'points': points,\n",
    "            'frame_id': index,\n",
    "        }\n",
    "\n",
    "        data_dict = self.prepare_data(data_dict=input_dict)\n",
    "        return data_dict"
   ]
  },
  {
   "cell_type": "code",
   "execution_count": 7,
   "metadata": {},
   "outputs": [],
   "source": [
    "# data_path = '/mnt/nas/users/shreyas21563/data.npy'\n",
    "data_path = '/mnt/nas/users/dhvanil21040/nuscenes_npy_lidar/n008-2018-08-01-15-16-36-0400__LIDAR_TOP__1533151605548192.npy'\n",
    "cfg_file = 'cfgs/nuscenes_models/cbgs_voxel0075_voxelnext.yaml'\n",
    "ckpt = '/home/dhvanil21040/OpenPCDet/voxelnext_nuscenes_kernel1.pth'"
   ]
  },
  {
   "cell_type": "code",
   "execution_count": 8,
   "metadata": {},
   "outputs": [],
   "source": [
    "cfg_from_yaml_file(cfg_file, cfg)\n",
    "demo_dataset = DemoDataset(\n",
    "        dataset_cfg=cfg.DATA_CONFIG, class_names=cfg.CLASS_NAMES, training=False,\n",
    "        root_path=Path(data_path), ext='.npy'\n",
    "    )"
   ]
  },
  {
   "cell_type": "code",
   "execution_count": 9,
   "metadata": {},
   "outputs": [
    {
     "name": "stderr",
     "output_type": "stream",
     "text": [
      "/home/dhvanil21040/miniconda3/envs/openpcdet/lib/python3.7/site-packages/torch/cuda/__init__.py:143: UserWarning: \n",
      "NVIDIA GeForce RTX 4090 with CUDA capability sm_89 is not compatible with the current PyTorch installation.\n",
      "The current PyTorch install supports CUDA capabilities sm_37 sm_50 sm_60 sm_61 sm_70 sm_75 compute_37.\n",
      "If you want to use the NVIDIA GeForce RTX 4090 GPU with PyTorch, please check the instructions at https://pytorch.org/get-started/locally/\n",
      "\n",
      "  warnings.warn(incompatible_device_warn.format(device_name, capability, \" \".join(arch_list), device_name))\n"
     ]
    }
   ],
   "source": [
    "model = build_network(model_cfg=cfg.MODEL, num_class=len(cfg.CLASS_NAMES), dataset=demo_dataset)"
   ]
  },
  {
   "cell_type": "code",
   "execution_count": 10,
   "metadata": {},
   "outputs": [
    {
     "name": "stderr",
     "output_type": "stream",
     "text": [
      "2024-10-23 16:30:17,251   INFO  ==> Loading parameters from checkpoint /home/dhvanil21040/OpenPCDet/voxelnext_nuscenes_kernel1.pth to CPU\n",
      "2024-10-23 16:30:17,302   INFO  Not updated weight backbone_3d.conv_input.0.weight: torch.Size([16, 3, 3, 3, 4])\n",
      "2024-10-23 16:30:17,303   INFO  ==> Done (loaded 541/542)\n"
     ]
    },
    {
     "name": "stdout",
     "output_type": "stream",
     "text": [
      "\n"
     ]
    }
   ],
   "source": [
    "logger = common_utils.create_logger()\n",
    "model.load_params_from_file(filename=ckpt, logger=logger, to_cpu=True)\n",
    "model.cuda()\n",
    "model.eval()\n",
    "print(\"\")"
   ]
  },
  {
   "cell_type": "code",
   "execution_count": 11,
   "metadata": {},
   "outputs": [
    {
     "name": "stderr",
     "output_type": "stream",
     "text": [
      "/home/dhvanil21040/OpenPCDet/pcdet/models/model_utils/centernet_utils.py:261: UserWarning: __floordiv__ is deprecated, and its behavior will change in a future version of pytorch. It currently rounds toward 0 (like the 'trunc' function NOT 'floor'). This results in incorrect rounding for negative values. To keep the current behavior, use torch.div(a, b, rounding_mode='trunc'), or for actual floor division, use torch.div(a, b, rounding_mode='floor').\n",
      "  topk_classes = (topk_ind // K).int()\n"
     ]
    }
   ],
   "source": [
    "with torch.no_grad():\n",
    "    for idx, data_dict in enumerate(demo_dataset):\n",
    "        data_dict = demo_dataset.collate_batch([data_dict])\n",
    "        load_data_to_gpu(data_dict)\n",
    "        pred_dicts, _ = model.forward(data_dict)"
   ]
  },
  {
   "cell_type": "code",
   "execution_count": 12,
   "metadata": {},
   "outputs": [],
   "source": [
    "points=data_dict['points'][:, 1:].cpu().numpy()\n",
    "ref_boxes=pred_dicts[0]['pred_boxes'].cpu().numpy()\n",
    "ref_scores=pred_dicts[0]['pred_scores'].cpu().numpy()\n",
    "ref_labels=pred_dicts[0]['pred_labels'].cpu().numpy()"
   ]
  },
  {
   "cell_type": "code",
   "execution_count": 13,
   "metadata": {},
   "outputs": [],
   "source": [
    "import pickle\n",
    "predictions = {\n",
    "    \"point\": points,\n",
    "    \"ref_boxes\": ref_boxes,\n",
    "    \"ref_scores\": ref_scores,\n",
    "    \"ref_labels\": ref_labels\n",
    "}\n",
    "\n",
    "# with open(\"/mnt/nas/users/shreyas21563/predictions.pkl\", 'wb') as f:\n",
    "#         pickle.dump(predictions, f)\n",
    "\n",
    "with open(\"/mnt/nas/users/dhvanil21040/predictions_n008-2018-08-01-15-16-36-0400__LIDAR_TOP__1533151605548192.pkl\", 'wb') as f:\n",
    "        pickle.dump(predictions, f)"
   ]
  }
 ],
 "metadata": {
  "kernelspec": {
   "display_name": "alive",
   "language": "python",
   "name": "python3"
  },
  "language_info": {
   "codemirror_mode": {
    "name": "ipython",
    "version": 3
   },
   "file_extension": ".py",
   "mimetype": "text/x-python",
   "name": "python",
   "nbconvert_exporter": "python",
   "pygments_lexer": "ipython3",
   "version": "3.7.16"
  }
 },
 "nbformat": 4,
 "nbformat_minor": 2
}
